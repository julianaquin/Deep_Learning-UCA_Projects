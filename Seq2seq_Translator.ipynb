{
  "cells": [
    {
      "cell_type": "markdown",
      "metadata": {
        "id": "view-in-github",
        "colab_type": "text"
      },
      "source": [
        "<a href=\"https://colab.research.google.com/github/julianaquin/Deep_Learning-UCA_Projects/blob/main/Seq2seq_Translator.ipynb\" target=\"_parent\"><img src=\"https://colab.research.google.com/assets/colab-badge.svg\" alt=\"Open In Colab\"/></a>"
      ]
    },
    {
      "cell_type": "code",
      "execution_count": null,
      "metadata": {
        "id": "_mwUNOhqyqWf"
      },
      "outputs": [],
      "source": [
        "import pandas as pd\n",
        "import numpy as np\n",
        "import matplotlib.pyplot as plt\n",
        "import re\n",
        "\n",
        "import tensorflow.keras as tf\n",
        "from tensorflow.keras import *\n",
        "from sklearn.feature_extraction import DictVectorizer\n",
        "from sklearn.model_selection import TimeSeriesSplit\n",
        "from sklearn.model_selection import train_test_split\n"
      ]
    },
    {
      "cell_type": "code",
      "execution_count": null,
      "metadata": {
        "colab": {
          "base_uri": "https://localhost:8080/"
        },
        "id": "BEF6AdkSzje-",
        "outputId": "936a372a-d508-4821-8322-deb4e6674232"
      },
      "outputs": [
        {
          "output_type": "stream",
          "name": "stdout",
          "text": [
            "Mounted at /content/drive\n"
          ]
        }
      ],
      "source": [
        "from google.colab import drive\n",
        "drive.mount('/content/drive')"
      ]
    },
    {
      "cell_type": "code",
      "execution_count": null,
      "metadata": {
        "id": "LNekrenozj8i"
      },
      "outputs": [],
      "source": [
        "dataset='/content/drive/My Drive/Colab Notebooks/DL2/fra.txt'"
      ]
    },
    {
      "cell_type": "code",
      "execution_count": null,
      "metadata": {
        "colab": {
          "base_uri": "https://localhost:8080/",
          "height": 206
        },
        "id": "Iozuv1RS2pVG",
        "outputId": "24fa1d60-b786-4fb8-ea99-14d49e0f153b"
      },
      "outputs": [
        {
          "output_type": "execute_result",
          "data": {
            "text/plain": [
              "   Go.        Va !  \\\n",
              "0  Go.     Marche.   \n",
              "1  Go.  En route !   \n",
              "2  Go.     Bouge !   \n",
              "3  Hi.     Salut !   \n",
              "4  Hi.      Salut.   \n",
              "\n",
              "  CC-BY 2.0 (France) Attribution: tatoeba.org #2877272 (CM) & #1158250 (Wittydev)  \n",
              "0  CC-BY 2.0 (France) Attribution: tatoeba.org #2...                               \n",
              "1  CC-BY 2.0 (France) Attribution: tatoeba.org #2...                               \n",
              "2  CC-BY 2.0 (France) Attribution: tatoeba.org #2...                               \n",
              "3  CC-BY 2.0 (France) Attribution: tatoeba.org #5...                               \n",
              "4  CC-BY 2.0 (France) Attribution: tatoeba.org #5...                               "
            ],
            "text/html": [
              "\n",
              "  <div id=\"df-3add6315-5bec-4705-855b-24f5c128e5f8\" class=\"colab-df-container\">\n",
              "    <div>\n",
              "<style scoped>\n",
              "    .dataframe tbody tr th:only-of-type {\n",
              "        vertical-align: middle;\n",
              "    }\n",
              "\n",
              "    .dataframe tbody tr th {\n",
              "        vertical-align: top;\n",
              "    }\n",
              "\n",
              "    .dataframe thead th {\n",
              "        text-align: right;\n",
              "    }\n",
              "</style>\n",
              "<table border=\"1\" class=\"dataframe\">\n",
              "  <thead>\n",
              "    <tr style=\"text-align: right;\">\n",
              "      <th></th>\n",
              "      <th>Go.</th>\n",
              "      <th>Va !</th>\n",
              "      <th>CC-BY 2.0 (France) Attribution: tatoeba.org #2877272 (CM) &amp; #1158250 (Wittydev)</th>\n",
              "    </tr>\n",
              "  </thead>\n",
              "  <tbody>\n",
              "    <tr>\n",
              "      <th>0</th>\n",
              "      <td>Go.</td>\n",
              "      <td>Marche.</td>\n",
              "      <td>CC-BY 2.0 (France) Attribution: tatoeba.org #2...</td>\n",
              "    </tr>\n",
              "    <tr>\n",
              "      <th>1</th>\n",
              "      <td>Go.</td>\n",
              "      <td>En route !</td>\n",
              "      <td>CC-BY 2.0 (France) Attribution: tatoeba.org #2...</td>\n",
              "    </tr>\n",
              "    <tr>\n",
              "      <th>2</th>\n",
              "      <td>Go.</td>\n",
              "      <td>Bouge !</td>\n",
              "      <td>CC-BY 2.0 (France) Attribution: tatoeba.org #2...</td>\n",
              "    </tr>\n",
              "    <tr>\n",
              "      <th>3</th>\n",
              "      <td>Hi.</td>\n",
              "      <td>Salut !</td>\n",
              "      <td>CC-BY 2.0 (France) Attribution: tatoeba.org #5...</td>\n",
              "    </tr>\n",
              "    <tr>\n",
              "      <th>4</th>\n",
              "      <td>Hi.</td>\n",
              "      <td>Salut.</td>\n",
              "      <td>CC-BY 2.0 (France) Attribution: tatoeba.org #5...</td>\n",
              "    </tr>\n",
              "  </tbody>\n",
              "</table>\n",
              "</div>\n",
              "    <div class=\"colab-df-buttons\">\n",
              "\n",
              "  <div class=\"colab-df-container\">\n",
              "    <button class=\"colab-df-convert\" onclick=\"convertToInteractive('df-3add6315-5bec-4705-855b-24f5c128e5f8')\"\n",
              "            title=\"Convert this dataframe to an interactive table.\"\n",
              "            style=\"display:none;\">\n",
              "\n",
              "  <svg xmlns=\"http://www.w3.org/2000/svg\" height=\"24px\" viewBox=\"0 -960 960 960\">\n",
              "    <path d=\"M120-120v-720h720v720H120Zm60-500h600v-160H180v160Zm220 220h160v-160H400v160Zm0 220h160v-160H400v160ZM180-400h160v-160H180v160Zm440 0h160v-160H620v160ZM180-180h160v-160H180v160Zm440 0h160v-160H620v160Z\"/>\n",
              "  </svg>\n",
              "    </button>\n",
              "\n",
              "  <style>\n",
              "    .colab-df-container {\n",
              "      display:flex;\n",
              "      gap: 12px;\n",
              "    }\n",
              "\n",
              "    .colab-df-convert {\n",
              "      background-color: #E8F0FE;\n",
              "      border: none;\n",
              "      border-radius: 50%;\n",
              "      cursor: pointer;\n",
              "      display: none;\n",
              "      fill: #1967D2;\n",
              "      height: 32px;\n",
              "      padding: 0 0 0 0;\n",
              "      width: 32px;\n",
              "    }\n",
              "\n",
              "    .colab-df-convert:hover {\n",
              "      background-color: #E2EBFA;\n",
              "      box-shadow: 0px 1px 2px rgba(60, 64, 67, 0.3), 0px 1px 3px 1px rgba(60, 64, 67, 0.15);\n",
              "      fill: #174EA6;\n",
              "    }\n",
              "\n",
              "    .colab-df-buttons div {\n",
              "      margin-bottom: 4px;\n",
              "    }\n",
              "\n",
              "    [theme=dark] .colab-df-convert {\n",
              "      background-color: #3B4455;\n",
              "      fill: #D2E3FC;\n",
              "    }\n",
              "\n",
              "    [theme=dark] .colab-df-convert:hover {\n",
              "      background-color: #434B5C;\n",
              "      box-shadow: 0px 1px 3px 1px rgba(0, 0, 0, 0.15);\n",
              "      filter: drop-shadow(0px 1px 2px rgba(0, 0, 0, 0.3));\n",
              "      fill: #FFFFFF;\n",
              "    }\n",
              "  </style>\n",
              "\n",
              "    <script>\n",
              "      const buttonEl =\n",
              "        document.querySelector('#df-3add6315-5bec-4705-855b-24f5c128e5f8 button.colab-df-convert');\n",
              "      buttonEl.style.display =\n",
              "        google.colab.kernel.accessAllowed ? 'block' : 'none';\n",
              "\n",
              "      async function convertToInteractive(key) {\n",
              "        const element = document.querySelector('#df-3add6315-5bec-4705-855b-24f5c128e5f8');\n",
              "        const dataTable =\n",
              "          await google.colab.kernel.invokeFunction('convertToInteractive',\n",
              "                                                    [key], {});\n",
              "        if (!dataTable) return;\n",
              "\n",
              "        const docLinkHtml = 'Like what you see? Visit the ' +\n",
              "          '<a target=\"_blank\" href=https://colab.research.google.com/notebooks/data_table.ipynb>data table notebook</a>'\n",
              "          + ' to learn more about interactive tables.';\n",
              "        element.innerHTML = '';\n",
              "        dataTable['output_type'] = 'display_data';\n",
              "        await google.colab.output.renderOutput(dataTable, element);\n",
              "        const docLink = document.createElement('div');\n",
              "        docLink.innerHTML = docLinkHtml;\n",
              "        element.appendChild(docLink);\n",
              "      }\n",
              "    </script>\n",
              "  </div>\n",
              "\n",
              "\n",
              "<div id=\"df-3fd781ef-9f8d-475d-935f-83490089c436\">\n",
              "  <button class=\"colab-df-quickchart\" onclick=\"quickchart('df-3fd781ef-9f8d-475d-935f-83490089c436')\"\n",
              "            title=\"Suggest charts\"\n",
              "            style=\"display:none;\">\n",
              "\n",
              "<svg xmlns=\"http://www.w3.org/2000/svg\" height=\"24px\"viewBox=\"0 0 24 24\"\n",
              "     width=\"24px\">\n",
              "    <g>\n",
              "        <path d=\"M19 3H5c-1.1 0-2 .9-2 2v14c0 1.1.9 2 2 2h14c1.1 0 2-.9 2-2V5c0-1.1-.9-2-2-2zM9 17H7v-7h2v7zm4 0h-2V7h2v10zm4 0h-2v-4h2v4z\"/>\n",
              "    </g>\n",
              "</svg>\n",
              "  </button>\n",
              "\n",
              "<style>\n",
              "  .colab-df-quickchart {\n",
              "      --bg-color: #E8F0FE;\n",
              "      --fill-color: #1967D2;\n",
              "      --hover-bg-color: #E2EBFA;\n",
              "      --hover-fill-color: #174EA6;\n",
              "      --disabled-fill-color: #AAA;\n",
              "      --disabled-bg-color: #DDD;\n",
              "  }\n",
              "\n",
              "  [theme=dark] .colab-df-quickchart {\n",
              "      --bg-color: #3B4455;\n",
              "      --fill-color: #D2E3FC;\n",
              "      --hover-bg-color: #434B5C;\n",
              "      --hover-fill-color: #FFFFFF;\n",
              "      --disabled-bg-color: #3B4455;\n",
              "      --disabled-fill-color: #666;\n",
              "  }\n",
              "\n",
              "  .colab-df-quickchart {\n",
              "    background-color: var(--bg-color);\n",
              "    border: none;\n",
              "    border-radius: 50%;\n",
              "    cursor: pointer;\n",
              "    display: none;\n",
              "    fill: var(--fill-color);\n",
              "    height: 32px;\n",
              "    padding: 0;\n",
              "    width: 32px;\n",
              "  }\n",
              "\n",
              "  .colab-df-quickchart:hover {\n",
              "    background-color: var(--hover-bg-color);\n",
              "    box-shadow: 0 1px 2px rgba(60, 64, 67, 0.3), 0 1px 3px 1px rgba(60, 64, 67, 0.15);\n",
              "    fill: var(--button-hover-fill-color);\n",
              "  }\n",
              "\n",
              "  .colab-df-quickchart-complete:disabled,\n",
              "  .colab-df-quickchart-complete:disabled:hover {\n",
              "    background-color: var(--disabled-bg-color);\n",
              "    fill: var(--disabled-fill-color);\n",
              "    box-shadow: none;\n",
              "  }\n",
              "\n",
              "  .colab-df-spinner {\n",
              "    border: 2px solid var(--fill-color);\n",
              "    border-color: transparent;\n",
              "    border-bottom-color: var(--fill-color);\n",
              "    animation:\n",
              "      spin 1s steps(1) infinite;\n",
              "  }\n",
              "\n",
              "  @keyframes spin {\n",
              "    0% {\n",
              "      border-color: transparent;\n",
              "      border-bottom-color: var(--fill-color);\n",
              "      border-left-color: var(--fill-color);\n",
              "    }\n",
              "    20% {\n",
              "      border-color: transparent;\n",
              "      border-left-color: var(--fill-color);\n",
              "      border-top-color: var(--fill-color);\n",
              "    }\n",
              "    30% {\n",
              "      border-color: transparent;\n",
              "      border-left-color: var(--fill-color);\n",
              "      border-top-color: var(--fill-color);\n",
              "      border-right-color: var(--fill-color);\n",
              "    }\n",
              "    40% {\n",
              "      border-color: transparent;\n",
              "      border-right-color: var(--fill-color);\n",
              "      border-top-color: var(--fill-color);\n",
              "    }\n",
              "    60% {\n",
              "      border-color: transparent;\n",
              "      border-right-color: var(--fill-color);\n",
              "    }\n",
              "    80% {\n",
              "      border-color: transparent;\n",
              "      border-right-color: var(--fill-color);\n",
              "      border-bottom-color: var(--fill-color);\n",
              "    }\n",
              "    90% {\n",
              "      border-color: transparent;\n",
              "      border-bottom-color: var(--fill-color);\n",
              "    }\n",
              "  }\n",
              "</style>\n",
              "\n",
              "  <script>\n",
              "    async function quickchart(key) {\n",
              "      const quickchartButtonEl =\n",
              "        document.querySelector('#' + key + ' button');\n",
              "      quickchartButtonEl.disabled = true;  // To prevent multiple clicks.\n",
              "      quickchartButtonEl.classList.add('colab-df-spinner');\n",
              "      try {\n",
              "        const charts = await google.colab.kernel.invokeFunction(\n",
              "            'suggestCharts', [key], {});\n",
              "      } catch (error) {\n",
              "        console.error('Error during call to suggestCharts:', error);\n",
              "      }\n",
              "      quickchartButtonEl.classList.remove('colab-df-spinner');\n",
              "      quickchartButtonEl.classList.add('colab-df-quickchart-complete');\n",
              "    }\n",
              "    (() => {\n",
              "      let quickchartButtonEl =\n",
              "        document.querySelector('#df-3fd781ef-9f8d-475d-935f-83490089c436 button');\n",
              "      quickchartButtonEl.style.display =\n",
              "        google.colab.kernel.accessAllowed ? 'block' : 'none';\n",
              "    })();\n",
              "  </script>\n",
              "</div>\n",
              "    </div>\n",
              "  </div>\n"
            ],
            "application/vnd.google.colaboratory.intrinsic+json": {
              "type": "dataframe",
              "variable_name": "data"
            }
          },
          "metadata": {},
          "execution_count": 4
        }
      ],
      "source": [
        "data = pd.read_table(dataset)\n",
        "data.head()"
      ]
    },
    {
      "cell_type": "markdown",
      "source": [
        "In the X data I add the french phrases"
      ],
      "metadata": {
        "id": "Ms3w5CFz-W4s"
      }
    },
    {
      "cell_type": "code",
      "execution_count": null,
      "metadata": {
        "colab": {
          "base_uri": "https://localhost:8080/"
        },
        "id": "i5Gdyrgz_xm4",
        "outputId": "b548edfd-528a-41c8-a4b1-a933ccf04f38"
      },
      "outputs": [
        {
          "output_type": "execute_result",
          "data": {
            "text/plain": [
              "0       Marche.\n",
              "1    En route !\n",
              "2       Bouge !\n",
              "3       Salut !\n",
              "4        Salut.\n",
              "Name: Va !, dtype: object"
            ]
          },
          "metadata": {},
          "execution_count": 5
        }
      ],
      "source": [
        "#French\n",
        "X= data.iloc[:,1]\n",
        "X.head()"
      ]
    },
    {
      "cell_type": "markdown",
      "source": [
        "In the Y data I add the english phrases"
      ],
      "metadata": {
        "id": "2niYlWqH-ecL"
      }
    },
    {
      "cell_type": "code",
      "execution_count": null,
      "metadata": {
        "colab": {
          "base_uri": "https://localhost:8080/"
        },
        "id": "yQTM5CXaACz3",
        "outputId": "706d683c-7e4a-47c1-864d-25d789347500"
      },
      "outputs": [
        {
          "output_type": "execute_result",
          "data": {
            "text/plain": [
              "0    Go.\n",
              "1    Go.\n",
              "2    Go.\n",
              "3    Hi.\n",
              "4    Hi.\n",
              "Name: Go., dtype: object"
            ]
          },
          "metadata": {},
          "execution_count": 6
        }
      ],
      "source": [
        "#English\n",
        "y= data.iloc[:,0]\n",
        "y.head()"
      ]
    },
    {
      "cell_type": "markdown",
      "source": [
        "I take an ammount of X and y instead of the whole data"
      ],
      "metadata": {
        "id": "MM_uzlak-iGo"
      }
    },
    {
      "cell_type": "code",
      "execution_count": null,
      "metadata": {
        "id": "MVojZ0csG7VJ"
      },
      "outputs": [],
      "source": [
        "X= X[:6000]"
      ]
    },
    {
      "cell_type": "code",
      "execution_count": null,
      "metadata": {
        "id": "o3tgfP3HG_xy"
      },
      "outputs": [],
      "source": [
        "y= y[:6000]"
      ]
    },
    {
      "cell_type": "code",
      "execution_count": null,
      "metadata": {
        "id": "6Mo9Y3XlFEX3"
      },
      "outputs": [],
      "source": [
        "import unicodedata"
      ]
    },
    {
      "cell_type": "code",
      "execution_count": null,
      "metadata": {
        "id": "1S3uSrkezK4e"
      },
      "outputs": [],
      "source": [
        "def step1(sent): # sent = on sentence in a   language\n",
        "  def unicode_to_ascii(s): return ''.join(c for c in unicodedata.normalize('NFD', s) if unicodedata.category(c) != 'Mn')\n",
        "  sent = unicode_to_ascii(sent.lower().strip()) # Only lower characters\n",
        "  #sent = re.sub(r\"[^a-zA-Z?.!,¿]+\", \" \", sent)\n",
        "  # Remove dots, spaces, and exclamation marks\n",
        "  sent = re.sub(r\"[.!\\s]+\", \" \", sent)\n",
        "\n",
        "  # creating a space between a word and the punctuation following it. E.g. \"he is a boy.\" => \"he is a boy .\"\n",
        "  # Reference:- https://stackoverflow.com/questions/3645931/python- padding-punctuation-with-white-spaces-keeping-punctuation\n",
        "  sent = re.sub(r\"([?.!,¿])\", r\" \\1 \", sent)\n",
        "  return '<start> ' + sent.strip() + ' <end>'"
      ]
    },
    {
      "cell_type": "markdown",
      "source": [
        "Now I apply the previous function to the dataset to regularize the texts"
      ],
      "metadata": {
        "id": "SH-amt2sAs-S"
      }
    },
    {
      "cell_type": "code",
      "execution_count": null,
      "metadata": {
        "id": "udc1dmu2M-GS"
      },
      "outputs": [],
      "source": [
        "X_= X.apply(step1)\n",
        "y_= y.apply(step1)"
      ]
    },
    {
      "cell_type": "code",
      "execution_count": null,
      "metadata": {
        "colab": {
          "base_uri": "https://localhost:8080/"
        },
        "id": "DMdIKN1VNNV3",
        "outputId": "e37df511-e45d-492a-c867-52bee484505f"
      },
      "outputs": [
        {
          "output_type": "execute_result",
          "data": {
            "text/plain": [
              "0      <start> marche <end>\n",
              "1    <start> en route <end>\n",
              "2       <start> bouge <end>\n",
              "3       <start> salut <end>\n",
              "4       <start> salut <end>\n",
              "Name: Va !, dtype: object"
            ]
          },
          "metadata": {},
          "execution_count": 12
        }
      ],
      "source": [
        "X_.head()"
      ]
    },
    {
      "cell_type": "code",
      "execution_count": null,
      "metadata": {
        "id": "VIQ8c-HgCao6"
      },
      "outputs": [],
      "source": [
        "import io"
      ]
    },
    {
      "cell_type": "code",
      "execution_count": null,
      "metadata": {
        "id": "13FlnBWozRsj"
      },
      "outputs": [],
      "source": [
        "def voc(lang):\n",
        "  # a list of sentences in the same language\n",
        "  lengths = [len(txt.split()) for txt in lang]\n",
        "  vocab = set([w for txt in lang for w in txt.split()])\n",
        "  return max(lengths), list(vocab), len(vocab)+2 # for padding and OOV\n",
        "  max_length1, vocab1, vocab_size1 = voc(sentences1)\n",
        "  # Build vectorizer layer"
      ]
    },
    {
      "cell_type": "code",
      "execution_count": null,
      "metadata": {
        "colab": {
          "base_uri": "https://localhost:8080/"
        },
        "id": "6rHiIM4SGIWT",
        "outputId": "7eb51bba-41b7-4a6e-957d-4d52c00985df"
      },
      "outputs": [
        {
          "output_type": "execute_result",
          "data": {
            "text/plain": [
              "(1, ['Marchez!'], 3)"
            ]
          },
          "metadata": {},
          "execution_count": 15
        }
      ],
      "source": [
        "voc(['Marchez!'])"
      ]
    },
    {
      "cell_type": "code",
      "source": [
        "step1(X[10])"
      ],
      "metadata": {
        "colab": {
          "base_uri": "https://localhost:8080/",
          "height": 35
        },
        "id": "R-mU3dpoeDL4",
        "outputId": "291cc9e4-30ca-4801-9b99-1653158a3ca6"
      },
      "execution_count": null,
      "outputs": [
        {
          "output_type": "execute_result",
          "data": {
            "text/plain": [
              "'<start> cours <end>'"
            ],
            "application/vnd.google.colaboratory.intrinsic+json": {
              "type": "string"
            }
          },
          "metadata": {},
          "execution_count": 16
        }
      ]
    },
    {
      "cell_type": "code",
      "source": [
        "X_.shape"
      ],
      "metadata": {
        "colab": {
          "base_uri": "https://localhost:8080/"
        },
        "id": "Kgc8JZOC3ONg",
        "outputId": "c134758d-c215-4d29-a330-399097f035e0"
      },
      "execution_count": null,
      "outputs": [
        {
          "output_type": "execute_result",
          "data": {
            "text/plain": [
              "(6000,)"
            ]
          },
          "metadata": {},
          "execution_count": 17
        }
      ]
    },
    {
      "cell_type": "markdown",
      "source": [
        "Apply the voc function into the french and english sentences"
      ],
      "metadata": {
        "id": "7BJevtrnA5zG"
      }
    },
    {
      "cell_type": "code",
      "execution_count": null,
      "metadata": {
        "id": "jpQlUoQ36xw6"
      },
      "outputs": [],
      "source": [
        "#French\n",
        "max_length, vocab1, voc_size = voc(X_)\n",
        "\n",
        "#english\n",
        "\n",
        "max_length2, vocab2, voc_size2 = voc(y_)"
      ]
    },
    {
      "cell_type": "markdown",
      "source": [
        "I create two vectorizers"
      ],
      "metadata": {
        "id": "_8p1L8MgBBhV"
      }
    },
    {
      "cell_type": "code",
      "execution_count": null,
      "metadata": {
        "id": "z7k4FD7MOtSl"
      },
      "outputs": [],
      "source": [
        "vectorizer_french = tf.layers.TextVectorization(standardize=None, output_mode='int', vocabulary=vocab1, name= \"french\")\n",
        "vectorizer_english = tf.layers.TextVectorization(standardize=None, output_mode='int', vocabulary=vocab2, name= \"english\") #Check"
      ]
    },
    {
      "cell_type": "code",
      "execution_count": null,
      "metadata": {
        "colab": {
          "base_uri": "https://localhost:8080/"
        },
        "id": "C2Q0HTus3pJB",
        "outputId": "e9b6510a-3191-4e52-d9b1-0b014f728249"
      },
      "outputs": [
        {
          "output_type": "execute_result",
          "data": {
            "text/plain": [
              "2930"
            ]
          },
          "metadata": {},
          "execution_count": 20
        }
      ],
      "source": [
        "voc_size"
      ]
    },
    {
      "cell_type": "code",
      "execution_count": null,
      "metadata": {
        "colab": {
          "base_uri": "https://localhost:8080/"
        },
        "id": "YGacPkcSEKFH",
        "outputId": "c8ed43b8-db5a-4096-c212-3a8e395f3402"
      },
      "outputs": [
        {
          "output_type": "execute_result",
          "data": {
            "text/plain": [
              "1374"
            ]
          },
          "metadata": {},
          "execution_count": 21
        }
      ],
      "source": [
        "voc_size2"
      ]
    },
    {
      "cell_type": "markdown",
      "source": [
        "Then I vectorize the french and english vocabulary (which were my X_ and y_)"
      ],
      "metadata": {
        "id": "_7xWJyrlBM0L"
      }
    },
    {
      "cell_type": "code",
      "execution_count": null,
      "metadata": {
        "id": "LNfgAtUu3B4V"
      },
      "outputs": [],
      "source": [
        "\n",
        "X_= np.array(vectorizer_french(X_))\n",
        "y_= np.array(vectorizer_english(y_))"
      ]
    },
    {
      "cell_type": "code",
      "execution_count": null,
      "metadata": {
        "id": "WozFrOOL9WXQ"
      },
      "outputs": [],
      "source": [
        "y_after= y_[:,1:]"
      ]
    },
    {
      "cell_type": "code",
      "execution_count": null,
      "metadata": {
        "colab": {
          "base_uri": "https://localhost:8080/"
        },
        "id": "M2JfjHOM-OfP",
        "outputId": "a702b40d-3fe5-4a8e-8698-358a43cb2d1d"
      },
      "outputs": [
        {
          "output_type": "execute_result",
          "data": {
            "text/plain": [
              "((6000, 12), (6000, 7))"
            ]
          },
          "metadata": {},
          "execution_count": 24
        }
      ],
      "source": [
        "X_.shape,  y_.shape"
      ]
    },
    {
      "cell_type": "code",
      "execution_count": null,
      "metadata": {
        "colab": {
          "base_uri": "https://localhost:8080/"
        },
        "id": "KZynd9jW-M4J",
        "outputId": "9ff58a0d-9700-4f61-a7f1-7515ebd90787"
      },
      "outputs": [
        {
          "output_type": "execute_result",
          "data": {
            "text/plain": [
              "(6000, 6)"
            ]
          },
          "metadata": {},
          "execution_count": 25
        }
      ],
      "source": [
        "y_after.shape"
      ]
    },
    {
      "cell_type": "code",
      "execution_count": null,
      "metadata": {
        "colab": {
          "base_uri": "https://localhost:8080/"
        },
        "id": "XiDxAm5eNg7S",
        "outputId": "be7ec403-77cc-44ba-cc56-2437622f6202"
      },
      "outputs": [
        {
          "output_type": "execute_result",
          "data": {
            "text/plain": [
              "(6000, 7)"
            ]
          },
          "metadata": {},
          "execution_count": 26
        }
      ],
      "source": [
        "y_after= np.hstack((y_after, np.zeros((y_after.shape[0], 1))))\n",
        "y_after.shape"
      ]
    },
    {
      "cell_type": "code",
      "execution_count": null,
      "metadata": {
        "id": "3pTVhkjDIgcr"
      },
      "outputs": [],
      "source": [
        "latent_dim= 32\n",
        "emb_dim=50"
      ]
    },
    {
      "cell_type": "markdown",
      "source": [
        "I create the encoder_decoder model and train it"
      ],
      "metadata": {
        "id": "Eaad5_wtBRkl"
      }
    },
    {
      "cell_type": "code",
      "execution_count": null,
      "metadata": {
        "id": "KfvJUnq-RN6T"
      },
      "outputs": [],
      "source": [
        "#Define the enconder\n",
        "enc_inputs = tf.layers.Input(shape=(None,), name=\"french_input\")\n",
        "enc = tf.layers.Embedding(voc_size, emb_dim, name=\"fr_embedding\")(enc_inputs)\n",
        "_, enc_state_h, enc_state_c = tf.layers.LSTM(latent_dim, return_sequences=False, return_state=True)(enc)\n",
        "context = [enc_state_h, enc_state_c]\n",
        "\n",
        "#Define the decoder\n",
        "dec_inputs = tf.layers.Input(shape=(None,))\n",
        "dec = tf.layers.Embedding(voc_size, emb_dim, name=\"en_embedding\")(dec_inputs)\n",
        "dec, _, _ = tf.layers.LSTM(latent_dim, return_sequences=True, return_state=True, name=\"lstm_dec\")(dec, initial_state=context)\n",
        "dec_outputs = tf.layers.Dense(voc_size, activation=\"softmax\", name=\"dec_dense\")(dec)"
      ]
    },
    {
      "cell_type": "code",
      "execution_count": null,
      "metadata": {
        "id": "Kt1aIDukKWZ6"
      },
      "outputs": [],
      "source": [
        "# Define the EncoderDecoder model\n",
        "model = Model ([enc_inputs, dec_inputs], dec_outputs)"
      ]
    },
    {
      "cell_type": "code",
      "execution_count": null,
      "metadata": {
        "colab": {
          "base_uri": "https://localhost:8080/"
        },
        "id": "U-NUNvqzB7SW",
        "outputId": "5dfcc45b-8ea2-484b-b1b7-b636fb900b07"
      },
      "outputs": [
        {
          "output_type": "stream",
          "name": "stdout",
          "text": [
            "Model: \"model\"\n",
            "__________________________________________________________________________________________________\n",
            " Layer (type)                Output Shape                 Param #   Connected to                  \n",
            "==================================================================================================\n",
            " french_input (InputLayer)   [(None, None)]               0         []                            \n",
            "                                                                                                  \n",
            " input_1 (InputLayer)        [(None, None)]               0         []                            \n",
            "                                                                                                  \n",
            " fr_embedding (Embedding)    (None, None, 50)             146500    ['french_input[0][0]']        \n",
            "                                                                                                  \n",
            " en_embedding (Embedding)    (None, None, 50)             146500    ['input_1[0][0]']             \n",
            "                                                                                                  \n",
            " lstm (LSTM)                 [(None, 32),                 10624     ['fr_embedding[0][0]']        \n",
            "                              (None, 32),                                                         \n",
            "                              (None, 32)]                                                         \n",
            "                                                                                                  \n",
            " lstm_dec (LSTM)             [(None, None, 32),           10624     ['en_embedding[0][0]',        \n",
            "                              (None, 32),                            'lstm[0][1]',                \n",
            "                              (None, 32)]                            'lstm[0][2]']                \n",
            "                                                                                                  \n",
            " dec_dense (Dense)           (None, None, 2930)           96690     ['lstm_dec[0][0]']            \n",
            "                                                                                                  \n",
            "==================================================================================================\n",
            "Total params: 410938 (1.57 MB)\n",
            "Trainable params: 410938 (1.57 MB)\n",
            "Non-trainable params: 0 (0.00 Byte)\n",
            "__________________________________________________________________________________________________\n"
          ]
        }
      ],
      "source": [
        "model.summary()"
      ]
    },
    {
      "cell_type": "code",
      "execution_count": null,
      "metadata": {
        "colab": {
          "base_uri": "https://localhost:8080/"
        },
        "id": "lHHj7s5XdBUe",
        "outputId": "e53b8c21-47b3-4d70-9b89-20e6268bd284"
      },
      "outputs": [
        {
          "output_type": "stream",
          "name": "stdout",
          "text": [
            "Epoch 1/16\n",
            "188/188 [==============================] - 12s 37ms/step - loss: 4.5272\n",
            "Epoch 2/16\n",
            "188/188 [==============================] - 5s 27ms/step - loss: 2.5146\n",
            "Epoch 3/16\n",
            "188/188 [==============================] - 5s 28ms/step - loss: 2.2730\n",
            "Epoch 4/16\n",
            "188/188 [==============================] - 8s 44ms/step - loss: 2.1601\n",
            "Epoch 5/16\n",
            "188/188 [==============================] - 5s 27ms/step - loss: 2.0723\n",
            "Epoch 6/16\n",
            "188/188 [==============================] - 6s 34ms/step - loss: 1.9670\n",
            "Epoch 7/16\n",
            "188/188 [==============================] - 5s 27ms/step - loss: 1.8682\n",
            "Epoch 8/16\n",
            "188/188 [==============================] - 5s 27ms/step - loss: 1.7852\n",
            "Epoch 9/16\n",
            "188/188 [==============================] - 7s 35ms/step - loss: 1.7170\n",
            "Epoch 10/16\n",
            "188/188 [==============================] - 6s 33ms/step - loss: 1.6501\n",
            "Epoch 11/16\n",
            "188/188 [==============================] - 10s 56ms/step - loss: 1.5892\n",
            "Epoch 12/16\n",
            "188/188 [==============================] - 10s 55ms/step - loss: 1.5348\n",
            "Epoch 13/16\n",
            "188/188 [==============================] - 5s 26ms/step - loss: 1.4837\n",
            "Epoch 14/16\n",
            "188/188 [==============================] - 5s 27ms/step - loss: 1.4347\n",
            "Epoch 15/16\n",
            "188/188 [==============================] - 6s 34ms/step - loss: 1.3888\n",
            "Epoch 16/16\n",
            "188/188 [==============================] - 5s 27ms/step - loss: 1.3469\n"
          ]
        },
        {
          "output_type": "execute_result",
          "data": {
            "text/plain": [
              "<keras.src.callbacks.History at 0x7d8dd192a3b0>"
            ]
          },
          "metadata": {},
          "execution_count": 31
        }
      ],
      "source": [
        "#compile and fit the EncoderDecoder model\n",
        "model.compile(optimizer='adam', loss='sparse_categorical_crossentropy')\n",
        "model.fit([X_, y_],y_after ,batch_size=32,epochs=16)"
      ]
    },
    {
      "cell_type": "markdown",
      "source": [
        "## Inference Model"
      ],
      "metadata": {
        "id": "MYUOuoj2R3tV"
      }
    },
    {
      "cell_type": "markdown",
      "source": [
        "Building of only encoder model"
      ],
      "metadata": {
        "id": "Hupbuo11Bgfs"
      }
    },
    {
      "cell_type": "code",
      "execution_count": null,
      "metadata": {
        "id": "QtlrIQQfZDe7"
      },
      "outputs": [],
      "source": [
        "\n",
        "enc_inputs= model.inputs[0]\n",
        "lstm_enc= model.get_layer(\"lstm\")\n",
        "_, enc_state_h, enc_state_c = lstm_enc.output\n",
        "\n",
        "encoder_model = Model(enc_inputs, [enc_state_h, enc_state_c])"
      ]
    },
    {
      "cell_type": "markdown",
      "source": [
        "Building of the decoder model"
      ],
      "metadata": {
        "id": "7w-49cQSBbdS"
      }
    },
    {
      "cell_type": "code",
      "source": [
        "#we get the trained layers of the decoder part of our model\n",
        "dec_inputs = tf.layers.Input(shape=(None,), name=\"english_input\")\n",
        "dec_state_input_h = tf.layers.Input(shape=(latent_dim,), name=\"dec_state_input_h\")\n",
        "dec_state_input_c = tf.layers.Input(shape=(latent_dim,), name=\"dec_state_input_c\")\n",
        "\n",
        "#we call the dec_emedding and lstm_decoder from our trained model using the get layer method\n",
        "dec_emb = model.get_layer(\"en_embedding\")\n",
        "lstm= model.get_layer(\"lstm_dec\")\n",
        "#get embedding\n",
        "emb_output= dec_emb(dec_inputs)\n",
        "\n",
        "#we pass on the emb_output into the lstm layer we just got previously from the trained model\n",
        "out_lstm, dec_state_h, dec_state_c = lstm(emb_output, initial_state=[dec_state_input_h, dec_state_input_c])\n",
        "\n",
        "dec_densee = model.get_layer(\"dec_dense\")\n",
        "\n",
        "dec_outputs = dec_densee(out_lstm)\n",
        "\n",
        "#Define the Decoder mode\n",
        "decoder_model = Model(\n",
        "    inputs=[dec_inputs, dec_state_input_h, dec_state_input_c],\n",
        "    outputs=[dec_outputs, dec_state_h, dec_state_c]\n",
        ")"
      ],
      "metadata": {
        "id": "Uco5WT6-QGpj"
      },
      "execution_count": null,
      "outputs": []
    },
    {
      "cell_type": "code",
      "source": [
        "encoder_model.summary()"
      ],
      "metadata": {
        "colab": {
          "base_uri": "https://localhost:8080/"
        },
        "id": "VoEJgmk_na_0",
        "outputId": "6bc1af6b-e113-4c7c-9432-af1d995de5c6"
      },
      "execution_count": null,
      "outputs": [
        {
          "output_type": "stream",
          "name": "stdout",
          "text": [
            "Model: \"model_1\"\n",
            "_________________________________________________________________\n",
            " Layer (type)                Output Shape              Param #   \n",
            "=================================================================\n",
            " french_input (InputLayer)   [(None, None)]            0         \n",
            "                                                                 \n",
            " fr_embedding (Embedding)    (None, None, 50)          146500    \n",
            "                                                                 \n",
            " lstm (LSTM)                 [(None, 32),              10624     \n",
            "                              (None, 32),                        \n",
            "                              (None, 32)]                        \n",
            "                                                                 \n",
            "=================================================================\n",
            "Total params: 157124 (613.77 KB)\n",
            "Trainable params: 157124 (613.77 KB)\n",
            "Non-trainable params: 0 (0.00 Byte)\n",
            "_________________________________________________________________\n"
          ]
        }
      ]
    },
    {
      "cell_type": "code",
      "source": [
        "decoder_model.summary()"
      ],
      "metadata": {
        "colab": {
          "base_uri": "https://localhost:8080/"
        },
        "id": "ZZp0jhpInVEZ",
        "outputId": "444806e7-6fa0-4a2e-bb45-6e14b9664295"
      },
      "execution_count": null,
      "outputs": [
        {
          "output_type": "stream",
          "name": "stdout",
          "text": [
            "Model: \"model_2\"\n",
            "__________________________________________________________________________________________________\n",
            " Layer (type)                Output Shape                 Param #   Connected to                  \n",
            "==================================================================================================\n",
            " english_input (InputLayer)  [(None, None)]               0         []                            \n",
            "                                                                                                  \n",
            " en_embedding (Embedding)    (None, None, 50)             146500    ['english_input[0][0]']       \n",
            "                                                                                                  \n",
            " dec_state_input_h (InputLa  [(None, 32)]                 0         []                            \n",
            " yer)                                                                                             \n",
            "                                                                                                  \n",
            " dec_state_input_c (InputLa  [(None, 32)]                 0         []                            \n",
            " yer)                                                                                             \n",
            "                                                                                                  \n",
            " lstm_dec (LSTM)             [(None, None, 32),           10624     ['en_embedding[1][0]',        \n",
            "                              (None, 32),                            'dec_state_input_h[0][0]',   \n",
            "                              (None, 32)]                            'dec_state_input_c[0][0]']   \n",
            "                                                                                                  \n",
            " dec_dense (Dense)           (None, None, 2930)           96690     ['lstm_dec[1][0]']            \n",
            "                                                                                                  \n",
            "==================================================================================================\n",
            "Total params: 253814 (991.46 KB)\n",
            "Trainable params: 253814 (991.46 KB)\n",
            "Non-trainable params: 0 (0.00 Byte)\n",
            "__________________________________________________________________________________________________\n"
          ]
        }
      ]
    },
    {
      "cell_type": "code",
      "source": [
        "s_vocabulary = vectorizer_french.get_vocabulary()\n",
        "target_vocabulary = vectorizer_english.get_vocabulary()"
      ],
      "metadata": {
        "id": "fNl9iY9RUcRj"
      },
      "execution_count": null,
      "outputs": []
    },
    {
      "cell_type": "code",
      "source": [
        "word2index_target = {w:i for i, w in enumerate(target_vocabulary)}"
      ],
      "metadata": {
        "id": "-DDzzFtr_Kfn"
      },
      "execution_count": null,
      "outputs": []
    },
    {
      "cell_type": "code",
      "source": [
        "word2index_target[\"<start>\"], word2index_target[\"<end>\"]"
      ],
      "metadata": {
        "colab": {
          "base_uri": "https://localhost:8080/"
        },
        "id": "3Q9qKGsT_dHY",
        "outputId": "402b8fc5-4718-40db-d751-5d8819e698d2"
      },
      "execution_count": null,
      "outputs": [
        {
          "output_type": "execute_result",
          "data": {
            "text/plain": [
              "(1357, 1118)"
            ]
          },
          "metadata": {},
          "execution_count": 38
        }
      ]
    },
    {
      "cell_type": "markdown",
      "source": [
        "Function to decode the a sequence using the encoder_model and decoder_model"
      ],
      "metadata": {
        "id": "FTfas9JgBo58"
      }
    },
    {
      "cell_type": "code",
      "source": [
        "def decode_sequence(input_seq):\n",
        "\n",
        "    # Encode the input as state vectors.\n",
        "    states_value = encoder_model.predict(input_seq, verbose=0)\n",
        "\n",
        "    target_seq = np.zeros((len(input_seq), 1))\n",
        "    target_seq[:, 0] = word2index_target[\"<start>\"]\n",
        "    end_tok_index = word2index_target[\"<end>\"]\n",
        "\n",
        "    out_seqs = []\n",
        "\n",
        "    for _ in range(len(input_seq)):\n",
        "      out_seqs.append(list())\n",
        "\n",
        "    for _ in range(max_length2):\n",
        "      toks, h, c = decoder_model.predict([target_seq] + states_value, verbose=0)\n",
        "\n",
        "      next_toks = np.argmax(toks[:, -1, :], axis=1)\n",
        "      for i, next_tok in enumerate(next_toks):\n",
        "\n",
        "        #if next_token isn't the end nor zero then we append it to our output sequence\n",
        "        if next_tok != end_tok_index and next_tok != 0:\n",
        "          out_seqs[i].append(next_tok)\n",
        "\n",
        "        target_seq[:, 0] = next_toks\n",
        "      states_value = [h, c]\n",
        "      #If in the sequence the next_toks are all in the end then we break out of the loop and return the output sequences list\n",
        "      if np.all(next_toks == end_tok_index):\n",
        "        break\n",
        "    return out_seqs\n"
      ],
      "metadata": {
        "id": "ChcH12Okihbq"
      },
      "execution_count": null,
      "outputs": []
    },
    {
      "cell_type": "code",
      "source": [
        "X_[10, None].shape"
      ],
      "metadata": {
        "colab": {
          "base_uri": "https://localhost:8080/"
        },
        "id": "_MreEu6n_Ab1",
        "outputId": "053351e7-20a2-46bb-f97d-4374d7876c45"
      },
      "execution_count": null,
      "outputs": [
        {
          "output_type": "execute_result",
          "data": {
            "text/plain": [
              "(1, 12)"
            ]
          },
          "metadata": {},
          "execution_count": 40
        }
      ]
    },
    {
      "cell_type": "code",
      "source": [
        "decode_sequence(X_[10, np.newaxis])"
      ],
      "metadata": {
        "colab": {
          "base_uri": "https://localhost:8080/"
        },
        "id": "AgTw9N6xAxV2",
        "outputId": "672a45a6-dd79-4d37-a70f-197d534a18f1"
      },
      "execution_count": null,
      "outputs": [
        {
          "output_type": "execute_result",
          "data": {
            "text/plain": [
              "[[173]]"
            ]
          },
          "metadata": {},
          "execution_count": 41
        }
      ]
    },
    {
      "cell_type": "code",
      "source": [
        "preds = decode_sequence(X_[300:308])\n",
        "\n",
        "preds"
      ],
      "metadata": {
        "colab": {
          "base_uri": "https://localhost:8080/"
        },
        "id": "pNxskqhYP6X6",
        "outputId": "e2526036-6c1c-40a2-d94f-d47e15ed79d3"
      },
      "execution_count": null,
      "outputs": [
        {
          "output_type": "execute_result",
          "data": {
            "text/plain": [
              "[[173, 596], [173, 1334, 419], [692, 774], [173, 596], [309], [309], [], [309]]"
            ]
          },
          "metadata": {},
          "execution_count": 42
        }
      ]
    },
    {
      "cell_type": "code",
      "source": [
        "def prediction_to_sentence(indices):\n",
        "  return \" \".join([target_vocabulary[idx] for idx in indices]).strip()"
      ],
      "metadata": {
        "id": "b4sBfrqaFfcP"
      },
      "execution_count": null,
      "outputs": []
    },
    {
      "cell_type": "markdown",
      "source": [
        "Comparison between the translations"
      ],
      "metadata": {
        "id": "1JbOJItJIbAM"
      }
    },
    {
      "cell_type": "code",
      "source": [
        "print(X[106]), prediction_to_sentence(y_[106]), prediction_to_sentence(preds[6])"
      ],
      "metadata": {
        "colab": {
          "base_uri": "https://localhost:8080/"
        },
        "id": "CmJPV1fc2J15",
        "outputId": "ca18c31b-d174-4a0b-a33e-40e15889eccb"
      },
      "execution_count": null,
      "outputs": [
        {
          "output_type": "stream",
          "name": "stdout",
          "text": [
            "Montez.\n"
          ]
        },
        {
          "output_type": "execute_result",
          "data": {
            "text/plain": [
              "(None, '<start> hop in <end>', '')"
            ]
          },
          "metadata": {},
          "execution_count": 44
        }
      ]
    },
    {
      "cell_type": "markdown",
      "source": [
        "## Seq2Seq with Attention"
      ],
      "metadata": {
        "id": "hOu4sniKB-GU"
      }
    },
    {
      "cell_type": "markdown",
      "metadata": {
        "id": "C-aSvKL0soBB"
      },
      "source": [
        "SAme as before but we apply an attention layer"
      ]
    },
    {
      "cell_type": "code",
      "source": [
        "#Define the enconder\n",
        "enc_inputs = tf.layers.Input(shape=(None,), name=\"french_input\")\n",
        "enc = tf.layers.Embedding(voc_size, emb_dim, name=\"fr_embedding\")(enc_inputs)\n",
        "enc_output, enc_state_h, enc_state_c = tf.layers.LSTM(latent_dim, return_sequences=True, return_state=True)(enc)\n",
        "context = [enc_state_h, enc_state_c]\n",
        "\n",
        "#Define the decoder\n",
        "dec_inputs = tf.layers.Input(shape=(None,))\n",
        "dec = tf.layers.Embedding(voc_size, emb_dim, name=\"en_embedding\")(dec_inputs)\n",
        "dec, _, _ = tf.layers.LSTM(latent_dim, return_sequences=True, return_state=True, name=\"lstm_dec\")(dec, initial_state=context)\n",
        "# Attention\n",
        "attention = tf.layers.Attention()([dec, enc_output])\n",
        "dec_outputs = tf.layers.Dense(voc_size, activation=\"softmax\", name=\"dec_dense\")(dec)\n",
        "\n",
        "attention_model = Model([enc_inputs, dec_inputs], dec_outputs)\n"
      ],
      "metadata": {
        "id": "wCEAIrALeYNX"
      },
      "execution_count": null,
      "outputs": []
    },
    {
      "cell_type": "code",
      "source": [
        "attention_model.summary()"
      ],
      "metadata": {
        "id": "T7o9U20aeYKZ",
        "colab": {
          "base_uri": "https://localhost:8080/"
        },
        "outputId": "ccce1ce0-6a96-44ea-ef6a-2b5eee934d39"
      },
      "execution_count": null,
      "outputs": [
        {
          "output_type": "stream",
          "name": "stdout",
          "text": [
            "Model: \"model_3\"\n",
            "__________________________________________________________________________________________________\n",
            " Layer (type)                Output Shape                 Param #   Connected to                  \n",
            "==================================================================================================\n",
            " french_input (InputLayer)   [(None, None)]               0         []                            \n",
            "                                                                                                  \n",
            " input_2 (InputLayer)        [(None, None)]               0         []                            \n",
            "                                                                                                  \n",
            " fr_embedding (Embedding)    (None, None, 50)             146500    ['french_input[0][0]']        \n",
            "                                                                                                  \n",
            " en_embedding (Embedding)    (None, None, 50)             146500    ['input_2[0][0]']             \n",
            "                                                                                                  \n",
            " lstm_1 (LSTM)               [(None, None, 32),           10624     ['fr_embedding[0][0]']        \n",
            "                              (None, 32),                                                         \n",
            "                              (None, 32)]                                                         \n",
            "                                                                                                  \n",
            " lstm_dec (LSTM)             [(None, None, 32),           10624     ['en_embedding[0][0]',        \n",
            "                              (None, 32),                            'lstm_1[0][1]',              \n",
            "                              (None, 32)]                            'lstm_1[0][2]']              \n",
            "                                                                                                  \n",
            " dec_dense (Dense)           (None, None, 2930)           96690     ['lstm_dec[0][0]']            \n",
            "                                                                                                  \n",
            "==================================================================================================\n",
            "Total params: 410938 (1.57 MB)\n",
            "Trainable params: 410938 (1.57 MB)\n",
            "Non-trainable params: 0 (0.00 Byte)\n",
            "__________________________________________________________________________________________________\n"
          ]
        }
      ]
    },
    {
      "cell_type": "code",
      "source": [
        "from tensorflow.keras.utils import plot_model\n",
        "\n",
        "plot_model(attention_model)"
      ],
      "metadata": {
        "colab": {
          "base_uri": "https://localhost:8080/",
          "height": 466
        },
        "id": "jqTZs0_fK4KZ",
        "outputId": "5d957641-4309-45f3-9786-bca77b576377"
      },
      "execution_count": null,
      "outputs": [
        {
          "output_type": "execute_result",
          "data": {
            "image/png": "[encoded data removed]",
            "text/plain": [
              "<IPython.core.display.Image object>"
            ]
          },
          "metadata": {},
          "execution_count": 47
        }
      ]
    },
    {
      "cell_type": "code",
      "source": [
        "#compiling and fitting the EncoderDecoder Attention model\n",
        "attention_model.compile(optimizer='adam', loss='sparse_categorical_crossentropy')\n",
        "attention_model.fit([X_, y_],y_after ,batch_size=32,epochs=16)"
      ],
      "metadata": {
        "colab": {
          "base_uri": "https://localhost:8080/"
        },
        "id": "SSl5wNh9LJgm",
        "outputId": "0fb42016-29da-4a0c-d330-1768dc609314"
      },
      "execution_count": null,
      "outputs": [
        {
          "output_type": "stream",
          "name": "stdout",
          "text": [
            "Epoch 1/16\n",
            "188/188 [==============================] - 10s 28ms/step - loss: 4.5348\n",
            "Epoch 2/16\n",
            "188/188 [==============================] - 7s 36ms/step - loss: 2.6672\n",
            "Epoch 3/16\n",
            "188/188 [==============================] - 5s 28ms/step - loss: 2.3891\n",
            "Epoch 4/16\n",
            "188/188 [==============================] - 8s 41ms/step - loss: 2.1885\n",
            "Epoch 5/16\n",
            "188/188 [==============================] - 12s 63ms/step - loss: 2.0800\n",
            "Epoch 6/16\n",
            "188/188 [==============================] - 12s 65ms/step - loss: 2.0103\n",
            "Epoch 7/16\n",
            "188/188 [==============================] - 7s 38ms/step - loss: 1.9496\n",
            "Epoch 8/16\n",
            "188/188 [==============================] - 5s 27ms/step - loss: 1.8778\n",
            "Epoch 9/16\n",
            "188/188 [==============================] - 6s 30ms/step - loss: 1.8065\n",
            "Epoch 10/16\n",
            "188/188 [==============================] - 6s 33ms/step - loss: 1.7434\n",
            "Epoch 11/16\n",
            "188/188 [==============================] - 5s 27ms/step - loss: 1.6807\n",
            "Epoch 12/16\n",
            "188/188 [==============================] - 7s 35ms/step - loss: 1.6253\n",
            "Epoch 13/16\n",
            "188/188 [==============================] - 5s 27ms/step - loss: 1.5738\n",
            "Epoch 14/16\n",
            "188/188 [==============================] - 6s 31ms/step - loss: 1.5273\n",
            "Epoch 15/16\n",
            "188/188 [==============================] - 6s 31ms/step - loss: 1.4847\n",
            "Epoch 16/16\n",
            "188/188 [==============================] - 5s 27ms/step - loss: 1.4454\n"
          ]
        },
        {
          "output_type": "execute_result",
          "data": {
            "text/plain": [
              "<keras.src.callbacks.History at 0x7d8dcc269ae0>"
            ]
          },
          "metadata": {},
          "execution_count": 48
        }
      ]
    },
    {
      "cell_type": "markdown",
      "source": [
        "Inference model part"
      ],
      "metadata": {
        "id": "c--6gbtNMhy4"
      }
    },
    {
      "cell_type": "code",
      "source": [
        "#Building of encoder attention model\n",
        "at_enc_inputs= attention_model.inputs[0]\n",
        "lstm_enc_at= attention_model.get_layer(\"lstm_1\")\n",
        "_, enc_state_h, enc_state_c = lstm_enc_at.output\n",
        "\n",
        "att_encoder_model = Model(at_enc_inputs, [enc_state_h, enc_state_c])"
      ],
      "metadata": {
        "id": "ScHxZO7lMcmT"
      },
      "execution_count": null,
      "outputs": []
    },
    {
      "cell_type": "code",
      "source": [
        "att_encoder_model.summary()"
      ],
      "metadata": {
        "colab": {
          "base_uri": "https://localhost:8080/"
        },
        "id": "DY0l2GnGNdmL",
        "outputId": "280b84be-e9df-4203-e4e7-b4c11be90fee"
      },
      "execution_count": null,
      "outputs": [
        {
          "output_type": "stream",
          "name": "stdout",
          "text": [
            "Model: \"model_5\"\n",
            "_________________________________________________________________\n",
            " Layer (type)                Output Shape              Param #   \n",
            "=================================================================\n",
            " french_input (InputLayer)   [(None, None)]            0         \n",
            "                                                                 \n",
            " fr_embedding (Embedding)    (None, None, 50)          146500    \n",
            "                                                                 \n",
            " lstm_1 (LSTM)               [(None, None, 32),        10624     \n",
            "                              (None, 32),                        \n",
            "                              (None, 32)]                        \n",
            "                                                                 \n",
            "=================================================================\n",
            "Total params: 157124 (613.77 KB)\n",
            "Trainable params: 157124 (613.77 KB)\n",
            "Non-trainable params: 0 (0.00 Byte)\n",
            "_________________________________________________________________\n"
          ]
        }
      ]
    },
    {
      "cell_type": "code",
      "source": [
        "#Building of the decoder model (we get the trained layers of the decoder part of our model)\n",
        "dec_inputs = tf.layers.Input(shape=(None,), name=\"english_input\")\n",
        "dec_state_input_h = tf.layers.Input(shape=(latent_dim,), name=\"dec_state_input_h\")\n",
        "dec_state_input_c = tf.layers.Input(shape=(latent_dim,), name=\"dec_state_input_c\")\n",
        "\n",
        "#we call the dec_emedding and lstm_decoder from our trained model using the get layer method\n",
        "dec_emb = model.get_layer(\"en_embedding\")\n",
        "lstm= model.get_layer(\"lstm_dec\")\n",
        "#get embedding\n",
        "emb_output= dec_emb(dec_inputs)\n",
        "\n",
        "#we pass on the emb_output into the lstm layer we just got previously from the trained model\n",
        "out_lstm, dec_state_h, dec_state_c = lstm(emb_output, initial_state=[dec_state_input_h, dec_state_input_c])\n",
        "\n",
        "dec_densee = model.get_layer(\"dec_dense\")\n",
        "\n",
        "dec_outputs = dec_densee(out_lstm)\n",
        "\n",
        "#Define the Decoder mode\n",
        "att_decoder_model = Model(\n",
        "    inputs=[dec_inputs, dec_state_input_h, dec_state_input_c],\n",
        "    outputs=[dec_outputs, dec_state_h, dec_state_c]\n",
        ")"
      ],
      "metadata": {
        "id": "-ltOLkl-Mnxu"
      },
      "execution_count": null,
      "outputs": []
    },
    {
      "cell_type": "code",
      "source": [
        "att_decoder_model.summary()"
      ],
      "metadata": {
        "colab": {
          "base_uri": "https://localhost:8080/"
        },
        "id": "onWa3b71NlFM",
        "outputId": "b7aeca23-4df3-4d68-af58-76de2901e928"
      },
      "execution_count": null,
      "outputs": [
        {
          "output_type": "stream",
          "name": "stdout",
          "text": [
            "Model: \"model_6\"\n",
            "__________________________________________________________________________________________________\n",
            " Layer (type)                Output Shape                 Param #   Connected to                  \n",
            "==================================================================================================\n",
            " english_input (InputLayer)  [(None, None)]               0         []                            \n",
            "                                                                                                  \n",
            " en_embedding (Embedding)    (None, None, 50)             146500    ['english_input[0][0]']       \n",
            "                                                                                                  \n",
            " dec_state_input_h (InputLa  [(None, 32)]                 0         []                            \n",
            " yer)                                                                                             \n",
            "                                                                                                  \n",
            " dec_state_input_c (InputLa  [(None, 32)]                 0         []                            \n",
            " yer)                                                                                             \n",
            "                                                                                                  \n",
            " lstm_dec (LSTM)             [(None, None, 32),           10624     ['en_embedding[2][0]',        \n",
            "                              (None, 32),                            'dec_state_input_h[0][0]',   \n",
            "                              (None, 32)]                            'dec_state_input_c[0][0]']   \n",
            "                                                                                                  \n",
            " dec_dense (Dense)           (None, None, 2930)           96690     ['lstm_dec[2][0]']            \n",
            "                                                                                                  \n",
            "==================================================================================================\n",
            "Total params: 253814 (991.46 KB)\n",
            "Trainable params: 253814 (991.46 KB)\n",
            "Non-trainable params: 0 (0.00 Byte)\n",
            "__________________________________________________________________________________________________\n"
          ]
        }
      ]
    },
    {
      "cell_type": "code",
      "source": [
        "def decode_sequence(input_seq):\n",
        "\n",
        "    # Encode the input as state vectors.\n",
        "    states_value = att_encoder_model.predict(input_seq, verbose=0)\n",
        "\n",
        "    target_seq = np.zeros((len(input_seq), 1))\n",
        "    target_seq[:, 0] = word2index_target[\"<start>\"]\n",
        "    end_tok_index = word2index_target[\"<end>\"]\n",
        "\n",
        "    out_seqs = []\n",
        "\n",
        "    for _ in range(len(input_seq)):\n",
        "      out_seqs.append(list())\n",
        "\n",
        "    for _ in range(max_length2):\n",
        "      toks, h, c = att_decoder_model.predict([target_seq] + states_value, verbose=0)\n",
        "\n",
        "      next_toks = np.argmax(toks[:, -1, :], axis=1)\n",
        "      for i, next_tok in enumerate(next_toks):\n",
        "\n",
        "        #if next_token isn't the end nor zero then we append it to our output sequence\n",
        "        if next_tok != end_tok_index and next_tok != 0:\n",
        "          out_seqs[i].append(next_tok)\n",
        "\n",
        "        target_seq[:, 0] = next_toks\n",
        "      states_value = [h, c]\n",
        "      #If in the sequence the next_toks are all in the end then we break out of the loop and return the output sequences list\n",
        "      if np.all(next_toks == end_tok_index):\n",
        "        break\n",
        "    return out_seqs"
      ],
      "metadata": {
        "id": "qUOMJNa5PXbz"
      },
      "execution_count": null,
      "outputs": []
    },
    {
      "cell_type": "code",
      "source": [
        "att_preds = decode_sequence(X_[300:308])"
      ],
      "metadata": {
        "id": "D2I073T5Ph4w"
      },
      "execution_count": null,
      "outputs": []
    },
    {
      "cell_type": "code",
      "source": [
        "print(X[100]), prediction_to_sentence(y_[100]), prediction_to_sentence(att_preds[0])"
      ],
      "metadata": {
        "id": "-ybndFHnNpEh",
        "colab": {
          "base_uri": "https://localhost:8080/"
        },
        "outputId": "3ddff004-ea6d-418d-b71d-a0700d586ac2"
      },
      "execution_count": null,
      "outputs": [
        {
          "output_type": "stream",
          "name": "stdout",
          "text": [
            "Compris !\n"
          ]
        },
        {
          "output_type": "execute_result",
          "data": {
            "text/plain": [
              "(None, '<start> got it <end>', 'go ?')"
            ]
          },
          "metadata": {},
          "execution_count": 58
        }
      ]
    }
  ],
  "metadata": {
    "colab": {
      "provenance": [],
      "authorship_tag": "ABX9TyPrBzY1VFtZqRrHAIznBA28",
      "include_colab_link": true
    },
    "kernelspec": {
      "display_name": "Python 3",
      "name": "python3"
    },
    "language_info": {
      "name": "python"
    }
  },
  "nbformat": 4,
  "nbformat_minor": 0
}